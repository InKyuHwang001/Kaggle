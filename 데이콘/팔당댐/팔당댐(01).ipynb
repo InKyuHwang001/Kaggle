{
  "nbformat": 4,
  "nbformat_minor": 0,
  "metadata": {
    "colab": {
      "name": "팔당댐(01).ipynb",
      "provenance": [],
      "collapsed_sections": [],
      "mount_file_id": "1W3wLrqOoVaQbO4u-_tAfKXbuYXmeWM2G",
      "authorship_tag": "ABX9TyOupRnsPaKoU1Sds7wR5DMk",
      "include_colab_link": true
    },
    "kernelspec": {
      "name": "python3",
      "display_name": "Python 3"
    },
    "language_info": {
      "name": "python"
    },
    "accelerator": "GPU",
    "gpuClass": "standard"
  },
  "cells": [
    {
      "cell_type": "markdown",
      "metadata": {
        "id": "view-in-github",
        "colab_type": "text"
      },
      "source": [
        "<a href=\"https://colab.research.google.com/github/InKyuHwang001/Kaggle/blob/master/%ED%8C%94%EB%8B%B9%EB%8C%90(01).ipynb\" target=\"_parent\"><img src=\"https://colab.research.google.com/assets/colab-badge.svg\" alt=\"Open In Colab\"/></a>"
      ]
    },
    {
      "cell_type": "markdown",
      "source": [
        "코드"
      ],
      "metadata": {
        "id": "FieRH4TNDf8W"
      }
    },
    {
      "cell_type": "code",
      "source": [
        "import os\n",
        "\n",
        "import numpy as np\n",
        "import pandas as pd\n",
        "\n",
        "import seaborn as sns \n",
        "import matplotlib.pyplot as plt\n",
        "\n",
        "import warnings\n",
        "warnings.filterwarnings(action='ignore')"
      ],
      "metadata": {
        "id": "j33FZAv-De52"
      },
      "execution_count": 44,
      "outputs": []
    },
    {
      "cell_type": "markdown",
      "source": [
        "#1. Data load "
      ],
      "metadata": {
        "id": "35ALpTHxDr5r"
      }
    },
    {
      "cell_type": "code",
      "execution_count": 45,
      "metadata": {
        "id": "a9_rlzDrJt8-"
      },
      "outputs": [],
      "source": [
        "def read_csv_by_dir(path, index_col=None):\n",
        "    df_raw = pd.DataFrame()\n",
        "    for files in os.listdir(path):\n",
        "        if files.endswith('.csv'):\n",
        "            df = pd.read_csv('/'.join([path,files]),\n",
        "                            index_col=index_col)\n",
        "        df_raw = pd.concat((df_raw, df), axis=0)\n",
        "    return df_raw"
      ]
    },
    {
      "cell_type": "code",
      "source": [
        "path = '/content/drive/MyDrive/data/paldang'\n",
        "_df_rf_raw = read_csv_by_dir('/'.join([path,'rf_data']), index_col=0)\n",
        "_df_water_raw = read_csv_by_dir('/'.join([path,'water_data']), index_col=0)\n",
        "_submission_raw = pd.read_csv('/'.join([path,'sample_submission.csv']),\n",
        "                             index_col=0)"
      ],
      "metadata": {
        "id": "8KRe6xPyD0Q6"
      },
      "execution_count": 58,
      "outputs": []
    },
    {
      "cell_type": "code",
      "source": [
        "# raw_data 보존하기\n",
        "df_rf=_df_rf_raw.copy()\n",
        "df_rf.name = \"rain_data\"\n",
        "\n",
        "df_water=_df_water_raw.copy()\n",
        "df_water.name = \"water_data\"\n",
        "\n",
        "submission=_submission_raw.copy()\n",
        "submission.name = \"submission\""
      ],
      "metadata": {
        "id": "W0OuG9tbKLM7"
      },
      "execution_count": 67,
      "outputs": []
    },
    {
      "cell_type": "markdown",
      "source": [
        "# 데이터 전처리\n"
      ],
      "metadata": {
        "id": "U7bV00i7JbWx"
      }
    },
    {
      "cell_type": "code",
      "source": [
        "def index_to_datetime(df,format):\n",
        "    df.index = pd.to_datetime(df.index,\n",
        "                              format=format)\n",
        "    return df"
      ],
      "metadata": {
        "id": "i_n9ucOcI6vE"
      },
      "execution_count": 68,
      "outputs": []
    },
    {
      "cell_type": "code",
      "source": [
        "df_rf=index_to_datetime(df=df_rf,format='%Y-%m-%d %H:%M')\n",
        "df_water=index_to_datetime(df=df_water,format='%Y-%m-%d %H:%M')\n",
        "submission=index_to_datetime(df=submission,format='%Y-%m-%d %H:%M')"
      ],
      "metadata": {
        "id": "2dzwg04GJeDM"
      },
      "execution_count": 69,
      "outputs": []
    },
    {
      "cell_type": "code",
      "source": [
        "df_rf.sort_index(inplace=True)\n",
        "df_water.sort_index(inplace=True)\n",
        "submission.sort_index(inplace=True)"
      ],
      "metadata": {
        "id": "IJAgNn1dJgIc"
      },
      "execution_count": 70,
      "outputs": []
    },
    {
      "cell_type": "code",
      "source": [
        "# 데이터 시간대 확인하기\n",
        "def check_datetime(df):\n",
        "    print(df.name)\n",
        "    print(df.select_dtypes('datetime64[ns]').head(1).index[0])\n",
        "    print(df.select_dtypes('datetime64[ns]').tail(1).index[0])\n",
        "    return None\n",
        "\n",
        "check_datetime(df_rf)\n",
        "check_datetime(df_water)\n",
        "check_datetime(submission)"
      ],
      "metadata": {
        "colab": {
          "base_uri": "https://localhost:8080/"
        },
        "id": "B3Vbqb2pJjHs",
        "outputId": "96b5a201-5130-4f0b-ea50-e3be7890fe34"
      },
      "execution_count": 71,
      "outputs": [
        {
          "output_type": "stream",
          "name": "stdout",
          "text": [
            "rain_data\n",
            "2012-05-01 00:00:00\n",
            "2022-07-18 23:50:00\n",
            "water_data\n",
            "2012-05-01 00:00:00\n",
            "2022-07-18 23:50:00\n",
            "submission\n",
            "2022-06-01 00:00:00\n",
            "2022-07-18 23:50:00\n"
          ]
        }
      ]
    },
    {
      "cell_type": "code",
      "source": [
        "# data target 분리하기\n",
        "target = df_water.loc[:,submission.columns]"
      ],
      "metadata": {
        "id": "slyfzvOVJmEE"
      },
      "execution_count": 72,
      "outputs": []
    },
    {
      "cell_type": "code",
      "source": [
        "data = pd.concat((df_rf,df_water.drop(submission.columns,axis=1)),axis=1)"
      ],
      "metadata": {
        "id": "hnWtE2UzJqH2"
      },
      "execution_count": 73,
      "outputs": []
    },
    {
      "cell_type": "code",
      "source": [
        "data"
      ],
      "metadata": {
        "id": "KLpJVcpdPr_g",
        "colab": {
          "base_uri": "https://localhost:8080/",
          "height": 455
        },
        "outputId": "eebe7112-6c8b-4c01-b153-8a44f0643b9b"
      },
      "execution_count": 74,
      "outputs": [
        {
          "output_type": "execute_result",
          "data": {
            "text/plain": [
              "                     rf_10184100  rf_10184110  rf_10184140     swl     inf  \\\n",
              "ymdhm                                                                        \n",
              "2012-05-01 00:00:00          0.0          0.0          0.0  24.800  555.00   \n",
              "2012-05-01 00:10:00          0.0          0.0          0.0  24.794  464.60   \n",
              "2012-05-01 00:20:00          0.0          0.0          0.0  24.789  478.10   \n",
              "2012-05-01 00:30:00          0.0          0.0          0.0  24.789  464.80   \n",
              "2012-05-01 00:40:00          0.0          0.0          0.0  24.789  478.10   \n",
              "...                          ...          ...          ...     ...     ...   \n",
              "2022-07-18 23:10:00          0.0          0.0          0.0  25.040  259.23   \n",
              "2022-07-18 23:20:00          0.0          0.0          0.0  25.040  260.46   \n",
              "2022-07-18 23:30:00          0.0          0.0          0.0  25.040  259.37   \n",
              "2022-07-18 23:40:00          0.0          0.0          0.0  25.040  259.13   \n",
              "2022-07-18 23:50:00          0.0          0.0          0.0  25.040  258.16   \n",
              "\n",
              "                        sfw   ecpc  tototf  tide_level  fw_1018662  \\\n",
              "ymdhm                                                                \n",
              "2012-05-01 00:00:00  219.07  24.93  555.00       445.0      469.05   \n",
              "2012-05-01 00:10:00  218.86  25.15  562.90       449.0      498.00   \n",
              "2012-05-01 00:20:00  218.69  25.31  576.40       451.0      490.68   \n",
              "2012-05-01 00:30:00  218.69  25.31  563.10       452.0      476.21   \n",
              "2012-05-01 00:40:00  218.69  25.31  576.40       450.0      476.21   \n",
              "...                     ...    ...     ...         ...         ...   \n",
              "2022-07-18 23:10:00  212.86  31.14  259.23       510.0      319.84   \n",
              "2022-07-18 23:20:00  212.86  31.14  260.46       492.0      314.01   \n",
              "2022-07-18 23:30:00  212.86  31.14  259.37       475.0      387.55   \n",
              "2022-07-18 23:40:00  212.86  31.14  259.13       458.0      454.91   \n",
              "2022-07-18 23:50:00  212.86  31.14  258.16       442.0      582.21   \n",
              "\n",
              "                     fw_1018680  fw_1018683  fw_1019630  \n",
              "ymdhm                                                    \n",
              "2012-05-01 00:00:00         0.0      729.80      540.18  \n",
              "2012-05-01 00:10:00         0.0      731.48      540.18  \n",
              "2012-05-01 00:20:00         0.0      726.42      540.18  \n",
              "2012-05-01 00:30:00         0.0      726.42      552.17  \n",
              "2012-05-01 00:40:00         0.0      707.17      564.29  \n",
              "...                         ...         ...         ...  \n",
              "2022-07-18 23:10:00         NaN     -456.41      974.40  \n",
              "2022-07-18 23:20:00         NaN     -717.30     1006.88  \n",
              "2022-07-18 23:30:00         NaN     -843.37     1039.90  \n",
              "2022-07-18 23:40:00         NaN    -1023.37     1073.46  \n",
              "2022-07-18 23:50:00         NaN    -1049.44     1090.45  \n",
              "\n",
              "[276336 rows x 13 columns]"
            ],
            "text/html": [
              "\n",
              "  <div id=\"df-faf01181-0484-495a-88d6-d5938ffa5691\">\n",
              "    <div class=\"colab-df-container\">\n",
              "      <div>\n",
              "<style scoped>\n",
              "    .dataframe tbody tr th:only-of-type {\n",
              "        vertical-align: middle;\n",
              "    }\n",
              "\n",
              "    .dataframe tbody tr th {\n",
              "        vertical-align: top;\n",
              "    }\n",
              "\n",
              "    .dataframe thead th {\n",
              "        text-align: right;\n",
              "    }\n",
              "</style>\n",
              "<table border=\"1\" class=\"dataframe\">\n",
              "  <thead>\n",
              "    <tr style=\"text-align: right;\">\n",
              "      <th></th>\n",
              "      <th>rf_10184100</th>\n",
              "      <th>rf_10184110</th>\n",
              "      <th>rf_10184140</th>\n",
              "      <th>swl</th>\n",
              "      <th>inf</th>\n",
              "      <th>sfw</th>\n",
              "      <th>ecpc</th>\n",
              "      <th>tototf</th>\n",
              "      <th>tide_level</th>\n",
              "      <th>fw_1018662</th>\n",
              "      <th>fw_1018680</th>\n",
              "      <th>fw_1018683</th>\n",
              "      <th>fw_1019630</th>\n",
              "    </tr>\n",
              "    <tr>\n",
              "      <th>ymdhm</th>\n",
              "      <th></th>\n",
              "      <th></th>\n",
              "      <th></th>\n",
              "      <th></th>\n",
              "      <th></th>\n",
              "      <th></th>\n",
              "      <th></th>\n",
              "      <th></th>\n",
              "      <th></th>\n",
              "      <th></th>\n",
              "      <th></th>\n",
              "      <th></th>\n",
              "      <th></th>\n",
              "    </tr>\n",
              "  </thead>\n",
              "  <tbody>\n",
              "    <tr>\n",
              "      <th>2012-05-01 00:00:00</th>\n",
              "      <td>0.0</td>\n",
              "      <td>0.0</td>\n",
              "      <td>0.0</td>\n",
              "      <td>24.800</td>\n",
              "      <td>555.00</td>\n",
              "      <td>219.07</td>\n",
              "      <td>24.93</td>\n",
              "      <td>555.00</td>\n",
              "      <td>445.0</td>\n",
              "      <td>469.05</td>\n",
              "      <td>0.0</td>\n",
              "      <td>729.80</td>\n",
              "      <td>540.18</td>\n",
              "    </tr>\n",
              "    <tr>\n",
              "      <th>2012-05-01 00:10:00</th>\n",
              "      <td>0.0</td>\n",
              "      <td>0.0</td>\n",
              "      <td>0.0</td>\n",
              "      <td>24.794</td>\n",
              "      <td>464.60</td>\n",
              "      <td>218.86</td>\n",
              "      <td>25.15</td>\n",
              "      <td>562.90</td>\n",
              "      <td>449.0</td>\n",
              "      <td>498.00</td>\n",
              "      <td>0.0</td>\n",
              "      <td>731.48</td>\n",
              "      <td>540.18</td>\n",
              "    </tr>\n",
              "    <tr>\n",
              "      <th>2012-05-01 00:20:00</th>\n",
              "      <td>0.0</td>\n",
              "      <td>0.0</td>\n",
              "      <td>0.0</td>\n",
              "      <td>24.789</td>\n",
              "      <td>478.10</td>\n",
              "      <td>218.69</td>\n",
              "      <td>25.31</td>\n",
              "      <td>576.40</td>\n",
              "      <td>451.0</td>\n",
              "      <td>490.68</td>\n",
              "      <td>0.0</td>\n",
              "      <td>726.42</td>\n",
              "      <td>540.18</td>\n",
              "    </tr>\n",
              "    <tr>\n",
              "      <th>2012-05-01 00:30:00</th>\n",
              "      <td>0.0</td>\n",
              "      <td>0.0</td>\n",
              "      <td>0.0</td>\n",
              "      <td>24.789</td>\n",
              "      <td>464.80</td>\n",
              "      <td>218.69</td>\n",
              "      <td>25.31</td>\n",
              "      <td>563.10</td>\n",
              "      <td>452.0</td>\n",
              "      <td>476.21</td>\n",
              "      <td>0.0</td>\n",
              "      <td>726.42</td>\n",
              "      <td>552.17</td>\n",
              "    </tr>\n",
              "    <tr>\n",
              "      <th>2012-05-01 00:40:00</th>\n",
              "      <td>0.0</td>\n",
              "      <td>0.0</td>\n",
              "      <td>0.0</td>\n",
              "      <td>24.789</td>\n",
              "      <td>478.10</td>\n",
              "      <td>218.69</td>\n",
              "      <td>25.31</td>\n",
              "      <td>576.40</td>\n",
              "      <td>450.0</td>\n",
              "      <td>476.21</td>\n",
              "      <td>0.0</td>\n",
              "      <td>707.17</td>\n",
              "      <td>564.29</td>\n",
              "    </tr>\n",
              "    <tr>\n",
              "      <th>...</th>\n",
              "      <td>...</td>\n",
              "      <td>...</td>\n",
              "      <td>...</td>\n",
              "      <td>...</td>\n",
              "      <td>...</td>\n",
              "      <td>...</td>\n",
              "      <td>...</td>\n",
              "      <td>...</td>\n",
              "      <td>...</td>\n",
              "      <td>...</td>\n",
              "      <td>...</td>\n",
              "      <td>...</td>\n",
              "      <td>...</td>\n",
              "    </tr>\n",
              "    <tr>\n",
              "      <th>2022-07-18 23:10:00</th>\n",
              "      <td>0.0</td>\n",
              "      <td>0.0</td>\n",
              "      <td>0.0</td>\n",
              "      <td>25.040</td>\n",
              "      <td>259.23</td>\n",
              "      <td>212.86</td>\n",
              "      <td>31.14</td>\n",
              "      <td>259.23</td>\n",
              "      <td>510.0</td>\n",
              "      <td>319.84</td>\n",
              "      <td>NaN</td>\n",
              "      <td>-456.41</td>\n",
              "      <td>974.40</td>\n",
              "    </tr>\n",
              "    <tr>\n",
              "      <th>2022-07-18 23:20:00</th>\n",
              "      <td>0.0</td>\n",
              "      <td>0.0</td>\n",
              "      <td>0.0</td>\n",
              "      <td>25.040</td>\n",
              "      <td>260.46</td>\n",
              "      <td>212.86</td>\n",
              "      <td>31.14</td>\n",
              "      <td>260.46</td>\n",
              "      <td>492.0</td>\n",
              "      <td>314.01</td>\n",
              "      <td>NaN</td>\n",
              "      <td>-717.30</td>\n",
              "      <td>1006.88</td>\n",
              "    </tr>\n",
              "    <tr>\n",
              "      <th>2022-07-18 23:30:00</th>\n",
              "      <td>0.0</td>\n",
              "      <td>0.0</td>\n",
              "      <td>0.0</td>\n",
              "      <td>25.040</td>\n",
              "      <td>259.37</td>\n",
              "      <td>212.86</td>\n",
              "      <td>31.14</td>\n",
              "      <td>259.37</td>\n",
              "      <td>475.0</td>\n",
              "      <td>387.55</td>\n",
              "      <td>NaN</td>\n",
              "      <td>-843.37</td>\n",
              "      <td>1039.90</td>\n",
              "    </tr>\n",
              "    <tr>\n",
              "      <th>2022-07-18 23:40:00</th>\n",
              "      <td>0.0</td>\n",
              "      <td>0.0</td>\n",
              "      <td>0.0</td>\n",
              "      <td>25.040</td>\n",
              "      <td>259.13</td>\n",
              "      <td>212.86</td>\n",
              "      <td>31.14</td>\n",
              "      <td>259.13</td>\n",
              "      <td>458.0</td>\n",
              "      <td>454.91</td>\n",
              "      <td>NaN</td>\n",
              "      <td>-1023.37</td>\n",
              "      <td>1073.46</td>\n",
              "    </tr>\n",
              "    <tr>\n",
              "      <th>2022-07-18 23:50:00</th>\n",
              "      <td>0.0</td>\n",
              "      <td>0.0</td>\n",
              "      <td>0.0</td>\n",
              "      <td>25.040</td>\n",
              "      <td>258.16</td>\n",
              "      <td>212.86</td>\n",
              "      <td>31.14</td>\n",
              "      <td>258.16</td>\n",
              "      <td>442.0</td>\n",
              "      <td>582.21</td>\n",
              "      <td>NaN</td>\n",
              "      <td>-1049.44</td>\n",
              "      <td>1090.45</td>\n",
              "    </tr>\n",
              "  </tbody>\n",
              "</table>\n",
              "<p>276336 rows × 13 columns</p>\n",
              "</div>\n",
              "      <button class=\"colab-df-convert\" onclick=\"convertToInteractive('df-faf01181-0484-495a-88d6-d5938ffa5691')\"\n",
              "              title=\"Convert this dataframe to an interactive table.\"\n",
              "              style=\"display:none;\">\n",
              "        \n",
              "  <svg xmlns=\"http://www.w3.org/2000/svg\" height=\"24px\"viewBox=\"0 0 24 24\"\n",
              "       width=\"24px\">\n",
              "    <path d=\"M0 0h24v24H0V0z\" fill=\"none\"/>\n",
              "    <path d=\"M18.56 5.44l.94 2.06.94-2.06 2.06-.94-2.06-.94-.94-2.06-.94 2.06-2.06.94zm-11 1L8.5 8.5l.94-2.06 2.06-.94-2.06-.94L8.5 2.5l-.94 2.06-2.06.94zm10 10l.94 2.06.94-2.06 2.06-.94-2.06-.94-.94-2.06-.94 2.06-2.06.94z\"/><path d=\"M17.41 7.96l-1.37-1.37c-.4-.4-.92-.59-1.43-.59-.52 0-1.04.2-1.43.59L10.3 9.45l-7.72 7.72c-.78.78-.78 2.05 0 2.83L4 21.41c.39.39.9.59 1.41.59.51 0 1.02-.2 1.41-.59l7.78-7.78 2.81-2.81c.8-.78.8-2.07 0-2.86zM5.41 20L4 18.59l7.72-7.72 1.47 1.35L5.41 20z\"/>\n",
              "  </svg>\n",
              "      </button>\n",
              "      \n",
              "  <style>\n",
              "    .colab-df-container {\n",
              "      display:flex;\n",
              "      flex-wrap:wrap;\n",
              "      gap: 12px;\n",
              "    }\n",
              "\n",
              "    .colab-df-convert {\n",
              "      background-color: #E8F0FE;\n",
              "      border: none;\n",
              "      border-radius: 50%;\n",
              "      cursor: pointer;\n",
              "      display: none;\n",
              "      fill: #1967D2;\n",
              "      height: 32px;\n",
              "      padding: 0 0 0 0;\n",
              "      width: 32px;\n",
              "    }\n",
              "\n",
              "    .colab-df-convert:hover {\n",
              "      background-color: #E2EBFA;\n",
              "      box-shadow: 0px 1px 2px rgba(60, 64, 67, 0.3), 0px 1px 3px 1px rgba(60, 64, 67, 0.15);\n",
              "      fill: #174EA6;\n",
              "    }\n",
              "\n",
              "    [theme=dark] .colab-df-convert {\n",
              "      background-color: #3B4455;\n",
              "      fill: #D2E3FC;\n",
              "    }\n",
              "\n",
              "    [theme=dark] .colab-df-convert:hover {\n",
              "      background-color: #434B5C;\n",
              "      box-shadow: 0px 1px 3px 1px rgba(0, 0, 0, 0.15);\n",
              "      filter: drop-shadow(0px 1px 2px rgba(0, 0, 0, 0.3));\n",
              "      fill: #FFFFFF;\n",
              "    }\n",
              "  </style>\n",
              "\n",
              "      <script>\n",
              "        const buttonEl =\n",
              "          document.querySelector('#df-faf01181-0484-495a-88d6-d5938ffa5691 button.colab-df-convert');\n",
              "        buttonEl.style.display =\n",
              "          google.colab.kernel.accessAllowed ? 'block' : 'none';\n",
              "\n",
              "        async function convertToInteractive(key) {\n",
              "          const element = document.querySelector('#df-faf01181-0484-495a-88d6-d5938ffa5691');\n",
              "          const dataTable =\n",
              "            await google.colab.kernel.invokeFunction('convertToInteractive',\n",
              "                                                     [key], {});\n",
              "          if (!dataTable) return;\n",
              "\n",
              "          const docLinkHtml = 'Like what you see? Visit the ' +\n",
              "            '<a target=\"_blank\" href=https://colab.research.google.com/notebooks/data_table.ipynb>data table notebook</a>'\n",
              "            + ' to learn more about interactive tables.';\n",
              "          element.innerHTML = '';\n",
              "          dataTable['output_type'] = 'display_data';\n",
              "          await google.colab.output.renderOutput(dataTable, element);\n",
              "          const docLink = document.createElement('div');\n",
              "          docLink.innerHTML = docLinkHtml;\n",
              "          element.appendChild(docLink);\n",
              "        }\n",
              "      </script>\n",
              "    </div>\n",
              "  </div>\n",
              "  "
            ]
          },
          "metadata": {},
          "execution_count": 74
        }
      ]
    },
    {
      "cell_type": "code",
      "source": [
        "# data와 target 하나 밀어주기 (과거데이터를 사용해야 함으로)\n",
        "_target = target.reset_index(drop=True)\n",
        "_data = data.reset_index(drop=True)\n",
        "\n",
        "_data.index += 1\n",
        "\n",
        "tot=pd.concat((_data,_target),axis=1)\n",
        "tot=tot.sort_index()\n",
        "\n",
        "tot=tot.iloc[1:-1]\n",
        "\n",
        "target = tot.loc[:,submission.columns]\n",
        "data = tot.drop(submission.columns,axis=1)"
      ],
      "metadata": {
        "id": "pQRGu_JuXFVe"
      },
      "execution_count": 75,
      "outputs": []
    },
    {
      "cell_type": "code",
      "source": [
        "train_target=target.iloc[:-len(submission),:]\n",
        "test_target=target.iloc[-len(submission):,:]\n",
        "\n",
        "train_data=data.iloc[:-len(submission),:]\n",
        "test_data=data.iloc[-len(submission):,:]"
      ],
      "metadata": {
        "id": "y9HBNVVeXRBL"
      },
      "execution_count": 76,
      "outputs": []
    },
    {
      "cell_type": "code",
      "source": [
        "train_target.fillna(train_target.mean(),inplace=True)\n",
        "test_target.fillna(train_target.mean(),inplace=True)\n",
        "train_data.fillna(train_data.mean(),inplace=True)\n",
        "test_data.fillna(train_data.mean(),inplace=True)"
      ],
      "metadata": {
        "id": "xtwXpRx1XULL"
      },
      "execution_count": 77,
      "outputs": []
    },
    {
      "cell_type": "code",
      "source": [
        "print('--data--')\n",
        "print(train_data.shape)\n",
        "print(test_data.shape)\n",
        "print('--target--')\n",
        "print(train_target.shape)\n",
        "print(test_target.shape)"
      ],
      "metadata": {
        "colab": {
          "base_uri": "https://localhost:8080/"
        },
        "id": "WpJcMbU8XW0N",
        "outputId": "38f4ca55-32b8-48c4-b6a2-c8035d7e14bd"
      },
      "execution_count": 78,
      "outputs": [
        {
          "output_type": "stream",
          "name": "stdout",
          "text": [
            "--data--\n",
            "(269423, 13)\n",
            "(6912, 13)\n",
            "--target--\n",
            "(269423, 4)\n",
            "(6912, 4)\n"
          ]
        }
      ]
    },
    {
      "cell_type": "markdown",
      "source": [
        "# 모델링\n"
      ],
      "metadata": {
        "id": "qMonxzLpXcw5"
      }
    },
    {
      "cell_type": "code",
      "source": [
        "from sklearn.model_selection import KFold\n",
        "kfold = KFold(n_splits=2, shuffle=True)\n",
        "\n",
        "from sklearn.ensemble import RandomForestRegressor\n",
        "rf = RandomForestRegressor(n_jobs=-1)\n",
        "\n",
        "params = {\n",
        "    \"n_estimators\" : (100, 150, 200)\n",
        "}"
      ],
      "metadata": {
        "id": "57cJhBAaXZni"
      },
      "execution_count": 79,
      "outputs": []
    },
    {
      "cell_type": "code",
      "source": [
        "from sklearn.model_selection import GridSearchCV\n",
        "grid_cv = GridSearchCV(rf,\n",
        "                       param_grid=params,\n",
        "                       cv = kfold,\n",
        "                       n_jobs=-1)"
      ],
      "metadata": {
        "id": "RRoAvifGXfMi"
      },
      "execution_count": 80,
      "outputs": []
    },
    {
      "cell_type": "code",
      "source": [
        "grid_cv.fit(train_data,train_target)\n"
      ],
      "metadata": {
        "colab": {
          "base_uri": "https://localhost:8080/"
        },
        "id": "BF_lOA_dXhXq",
        "outputId": "4742237a-d177-438d-87dd-6945e5984506"
      },
      "execution_count": 81,
      "outputs": [
        {
          "output_type": "execute_result",
          "data": {
            "text/plain": [
              "GridSearchCV(cv=KFold(n_splits=2, random_state=None, shuffle=True),\n",
              "             estimator=RandomForestRegressor(n_jobs=-1), n_jobs=-1,\n",
              "             param_grid={'n_estimators': (100, 150, 200)})"
            ]
          },
          "metadata": {},
          "execution_count": 81
        }
      ]
    },
    {
      "cell_type": "code",
      "source": [
        "grid_cv.best_estimator_"
      ],
      "metadata": {
        "colab": {
          "base_uri": "https://localhost:8080/"
        },
        "id": "iKLq1MjVXjKT",
        "outputId": "5898061d-142b-4aeb-ec61-d5202cf37aa5"
      },
      "execution_count": 82,
      "outputs": [
        {
          "output_type": "execute_result",
          "data": {
            "text/plain": [
              "RandomForestRegressor(n_estimators=200, n_jobs=-1)"
            ]
          },
          "metadata": {},
          "execution_count": 82
        }
      ]
    },
    {
      "cell_type": "code",
      "source": [
        "model=grid_cv.best_estimator_\n",
        "model.fit(train_data,train_target)\n",
        "y_pred=model.predict(test_data)\n",
        "\n",
        "_submission_raw.iloc[:,:] = y_pred\n",
        "_submission_raw.to_csv('ans.csv')"
      ],
      "metadata": {
        "id": "VTW5jqJEXngL"
      },
      "execution_count": 83,
      "outputs": []
    },
    {
      "cell_type": "code",
      "source": [
        ""
      ],
      "metadata": {
        "id": "CfB0Yd_JcD8a"
      },
      "execution_count": null,
      "outputs": []
    }
  ]
}
