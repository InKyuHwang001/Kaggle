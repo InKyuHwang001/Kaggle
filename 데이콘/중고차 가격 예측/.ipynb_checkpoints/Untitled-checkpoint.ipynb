{
 "cells": [
  {
   "cell_type": "markdown",
   "id": "fea85a97",
   "metadata": {},
   "source": []
  },
  {
   "cell_type": "markdown",
   "id": "89d1c5aa",
   "metadata": {},
   "source": [
    "## 데이터 기본\n",
    "### 1. train.csv : 학습 데이터\n",
    "- id : 샘플 아이디\n",
    "- title : 제조사 모델명\n",
    "- odometer : 주행 거리\n",
    "- location : 판매처(나이지리아 도시)\n",
    "- isimported : 현지 사용 여부\n",
    "- engine : 엔진 종류\n",
    "- transmission : 트랜스미션 종류\n",
    "- fuel : 연료 종류\n",
    "- paint : 페인트 색상\n",
    "- year : 제조년도\n",
    "- target : 자동차 가격\n",
    "### 2. test.csv : 테스트 데이터\n",
    "- id : 샘플 아이디\n",
    "- title : 제조사 모델명\n",
    "- odometer : 주행 거리\n",
    "- location : 판매처(나이지리아 도시)\n",
    "- isimported : 현지 사용 여부\n",
    "- engine : 엔진 종류\n",
    "- transmission : 트랜스미션 종류\n",
    "- fuel : 연료 종류\n",
    "- paint : 페인트 색상\n",
    "- year : 제조년도\n",
    "### 3. sample_submission.csv : 제출 양식\n",
    "- id : 샘플 아이디\n",
    "- target : 자동차 가격"
   ]
  },
  {
   "cell_type": "markdown",
   "id": "33379752",
   "metadata": {},
   "source": [
    "## 데이터 불러오기 및 기본 정보"
   ]
  },
  {
   "cell_type": "code",
   "execution_count": 2,
   "id": "f8f22d41",
   "metadata": {},
   "outputs": [],
   "source": [
    "import pandas as pd\n",
    "import numpy as np\n",
    "import matplotlib.pyplot as plt\n",
    "import seaborn as sns"
   ]
  },
  {
   "cell_type": "code",
   "execution_count": 3,
   "id": "88a0debe",
   "metadata": {},
   "outputs": [],
   "source": [
    "sample_submission=pd.read_csv('./data/sample_submission.csv')\n",
    "test=pd.read_csv('./data/test.csv')\n",
    "train=pd.read_csv('./data/train.csv')"
   ]
  },
  {
   "cell_type": "code",
   "execution_count": 4,
   "id": "eb39e9b7",
   "metadata": {},
   "outputs": [
    {
     "data": {
      "text/html": [
       "<div>\n",
       "<style scoped>\n",
       "    .dataframe tbody tr th:only-of-type {\n",
       "        vertical-align: middle;\n",
       "    }\n",
       "\n",
       "    .dataframe tbody tr th {\n",
       "        vertical-align: top;\n",
       "    }\n",
       "\n",
       "    .dataframe thead th {\n",
       "        text-align: right;\n",
       "    }\n",
       "</style>\n",
       "<table border=\"1\" class=\"dataframe\">\n",
       "  <thead>\n",
       "    <tr style=\"text-align: right;\">\n",
       "      <th></th>\n",
       "      <th>id</th>\n",
       "      <th>title</th>\n",
       "      <th>odometer</th>\n",
       "      <th>location</th>\n",
       "      <th>isimported</th>\n",
       "      <th>engine</th>\n",
       "      <th>transmission</th>\n",
       "      <th>fuel</th>\n",
       "      <th>paint</th>\n",
       "      <th>year</th>\n",
       "      <th>target</th>\n",
       "    </tr>\n",
       "  </thead>\n",
       "  <tbody>\n",
       "    <tr>\n",
       "      <th>0</th>\n",
       "      <td>0</td>\n",
       "      <td>Toyota RAV 4</td>\n",
       "      <td>18277</td>\n",
       "      <td>Lagos</td>\n",
       "      <td>Foreign Used</td>\n",
       "      <td>4-cylinder(I4)</td>\n",
       "      <td>automatic</td>\n",
       "      <td>petrol</td>\n",
       "      <td>Red</td>\n",
       "      <td>2016</td>\n",
       "      <td>13665000</td>\n",
       "    </tr>\n",
       "    <tr>\n",
       "      <th>1</th>\n",
       "      <td>1</td>\n",
       "      <td>Toyota Land Cruiser</td>\n",
       "      <td>10</td>\n",
       "      <td>Lagos</td>\n",
       "      <td>New</td>\n",
       "      <td>4-cylinder(I4)</td>\n",
       "      <td>automatic</td>\n",
       "      <td>petrol</td>\n",
       "      <td>Black</td>\n",
       "      <td>2019</td>\n",
       "      <td>33015000</td>\n",
       "    </tr>\n",
       "    <tr>\n",
       "      <th>2</th>\n",
       "      <td>2</td>\n",
       "      <td>Land Rover Range Rover Evoque</td>\n",
       "      <td>83091</td>\n",
       "      <td>Lagos</td>\n",
       "      <td>Foreign Used</td>\n",
       "      <td>6-cylinder(V6)</td>\n",
       "      <td>automatic</td>\n",
       "      <td>petrol</td>\n",
       "      <td>Red</td>\n",
       "      <td>2012</td>\n",
       "      <td>9915000</td>\n",
       "    </tr>\n",
       "    <tr>\n",
       "      <th>3</th>\n",
       "      <td>3</td>\n",
       "      <td>Lexus ES 350</td>\n",
       "      <td>91524</td>\n",
       "      <td>Lagos</td>\n",
       "      <td>Foreign Used</td>\n",
       "      <td>4-cylinder(I4)</td>\n",
       "      <td>automatic</td>\n",
       "      <td>petrol</td>\n",
       "      <td>Gray</td>\n",
       "      <td>2007</td>\n",
       "      <td>3815000</td>\n",
       "    </tr>\n",
       "    <tr>\n",
       "      <th>4</th>\n",
       "      <td>4</td>\n",
       "      <td>Toyota Venza</td>\n",
       "      <td>94177</td>\n",
       "      <td>Lagos</td>\n",
       "      <td>Foreign Used</td>\n",
       "      <td>6-cylinder(V6)</td>\n",
       "      <td>automatic</td>\n",
       "      <td>petrol</td>\n",
       "      <td>Red</td>\n",
       "      <td>2010</td>\n",
       "      <td>7385000</td>\n",
       "    </tr>\n",
       "  </tbody>\n",
       "</table>\n",
       "</div>"
      ],
      "text/plain": [
       "   id                          title  odometer location    isimported  \\\n",
       "0   0                   Toyota RAV 4     18277   Lagos   Foreign Used   \n",
       "1   1            Toyota Land Cruiser        10    Lagos          New    \n",
       "2   2  Land Rover Range Rover Evoque     83091    Lagos  Foreign Used   \n",
       "3   3                   Lexus ES 350     91524    Lagos  Foreign Used   \n",
       "4   4                   Toyota Venza     94177    Lagos  Foreign Used   \n",
       "\n",
       "           engine transmission    fuel  paint  year    target  \n",
       "0  4-cylinder(I4)    automatic  petrol    Red  2016  13665000  \n",
       "1  4-cylinder(I4)    automatic  petrol  Black  2019  33015000  \n",
       "2  6-cylinder(V6)    automatic  petrol    Red  2012   9915000  \n",
       "3  4-cylinder(I4)    automatic  petrol   Gray  2007   3815000  \n",
       "4  6-cylinder(V6)    automatic  petrol    Red  2010   7385000  "
      ]
     },
     "execution_count": 4,
     "metadata": {},
     "output_type": "execute_result"
    }
   ],
   "source": [
    "train.head()"
   ]
  },
  {
   "cell_type": "code",
   "execution_count": 5,
   "id": "086a73df",
   "metadata": {},
   "outputs": [
    {
     "data": {
      "text/html": [
       "<div>\n",
       "<style scoped>\n",
       "    .dataframe tbody tr th:only-of-type {\n",
       "        vertical-align: middle;\n",
       "    }\n",
       "\n",
       "    .dataframe tbody tr th {\n",
       "        vertical-align: top;\n",
       "    }\n",
       "\n",
       "    .dataframe thead th {\n",
       "        text-align: right;\n",
       "    }\n",
       "</style>\n",
       "<table border=\"1\" class=\"dataframe\">\n",
       "  <thead>\n",
       "    <tr style=\"text-align: right;\">\n",
       "      <th></th>\n",
       "      <th>id</th>\n",
       "      <th>title</th>\n",
       "      <th>odometer</th>\n",
       "      <th>location</th>\n",
       "      <th>isimported</th>\n",
       "      <th>engine</th>\n",
       "      <th>transmission</th>\n",
       "      <th>fuel</th>\n",
       "      <th>paint</th>\n",
       "      <th>year</th>\n",
       "    </tr>\n",
       "  </thead>\n",
       "  <tbody>\n",
       "    <tr>\n",
       "      <th>0</th>\n",
       "      <td>0</td>\n",
       "      <td>Mercedes-Benz C 300</td>\n",
       "      <td>1234</td>\n",
       "      <td>Abuja</td>\n",
       "      <td>New</td>\n",
       "      <td>4-cylinder(I4)</td>\n",
       "      <td>automatic</td>\n",
       "      <td>petrol</td>\n",
       "      <td>White</td>\n",
       "      <td>2017</td>\n",
       "    </tr>\n",
       "    <tr>\n",
       "      <th>1</th>\n",
       "      <td>1</td>\n",
       "      <td>Honda Accord</td>\n",
       "      <td>29938</td>\n",
       "      <td>Abuja</td>\n",
       "      <td>Foreign Used</td>\n",
       "      <td>4-cylinder(I4)</td>\n",
       "      <td>automatic</td>\n",
       "      <td>petrol</td>\n",
       "      <td>White</td>\n",
       "      <td>2013</td>\n",
       "    </tr>\n",
       "    <tr>\n",
       "      <th>2</th>\n",
       "      <td>2</td>\n",
       "      <td>Mercedes-Benz S 550</td>\n",
       "      <td>87501</td>\n",
       "      <td>Lagos</td>\n",
       "      <td>Foreign Used</td>\n",
       "      <td>4-cylinder(I4)</td>\n",
       "      <td>automatic</td>\n",
       "      <td>petrol</td>\n",
       "      <td>Black</td>\n",
       "      <td>2012</td>\n",
       "    </tr>\n",
       "    <tr>\n",
       "      <th>3</th>\n",
       "      <td>3</td>\n",
       "      <td>Toyota Sienna</td>\n",
       "      <td>180894</td>\n",
       "      <td>Lagos</td>\n",
       "      <td>Locally used</td>\n",
       "      <td>6-cylinder(V6)</td>\n",
       "      <td>automatic</td>\n",
       "      <td>petrol</td>\n",
       "      <td>Dark Grey</td>\n",
       "      <td>2001</td>\n",
       "    </tr>\n",
       "    <tr>\n",
       "      <th>4</th>\n",
       "      <td>4</td>\n",
       "      <td>Toyota Hiace</td>\n",
       "      <td>104814</td>\n",
       "      <td>Lagos</td>\n",
       "      <td>Foreign Used</td>\n",
       "      <td>4-cylinder(I4)</td>\n",
       "      <td>automatic</td>\n",
       "      <td>petrol</td>\n",
       "      <td>White</td>\n",
       "      <td>2000</td>\n",
       "    </tr>\n",
       "  </tbody>\n",
       "</table>\n",
       "</div>"
      ],
      "text/plain": [
       "   id                title  odometer location    isimported          engine  \\\n",
       "0   0  Mercedes-Benz C 300      1234    Abuja          New   4-cylinder(I4)   \n",
       "1   1         Honda Accord     29938    Abuja  Foreign Used  4-cylinder(I4)   \n",
       "2   2  Mercedes-Benz S 550     87501    Lagos  Foreign Used  4-cylinder(I4)   \n",
       "3   3        Toyota Sienna    180894    Lagos  Locally used  6-cylinder(V6)   \n",
       "4   4         Toyota Hiace    104814    Lagos  Foreign Used  4-cylinder(I4)   \n",
       "\n",
       "  transmission    fuel      paint  year  \n",
       "0    automatic  petrol      White  2017  \n",
       "1    automatic  petrol      White  2013  \n",
       "2    automatic  petrol      Black  2012  \n",
       "3    automatic  petrol  Dark Grey  2001  \n",
       "4    automatic  petrol      White  2000  "
      ]
     },
     "execution_count": 5,
     "metadata": {},
     "output_type": "execute_result"
    }
   ],
   "source": [
    "test.head()"
   ]
  },
  {
   "cell_type": "code",
   "execution_count": 7,
   "id": "f3d4ba5d",
   "metadata": {},
   "outputs": [
    {
     "name": "stdout",
     "output_type": "stream",
     "text": [
      "---shape---\n",
      "(1015, 11)\n",
      "\n",
      "---null---\n",
      "id              0\n",
      "title           0\n",
      "odometer        0\n",
      "location        0\n",
      "isimported      0\n",
      "engine          0\n",
      "transmission    0\n",
      "fuel            0\n",
      "paint           0\n",
      "year            0\n",
      "target          0\n",
      "dtype: int64\n",
      "---null---\n",
      "<class 'pandas.core.frame.DataFrame'>\n",
      "RangeIndex: 1015 entries, 0 to 1014\n",
      "Data columns (total 11 columns):\n",
      " #   Column        Non-Null Count  Dtype \n",
      "---  ------        --------------  ----- \n",
      " 0   id            1015 non-null   int64 \n",
      " 1   title         1015 non-null   object\n",
      " 2   odometer      1015 non-null   int64 \n",
      " 3   location      1015 non-null   object\n",
      " 4   isimported    1015 non-null   object\n",
      " 5   engine        1015 non-null   object\n",
      " 6   transmission  1015 non-null   object\n",
      " 7   fuel          1015 non-null   object\n",
      " 8   paint         1015 non-null   object\n",
      " 9   year          1015 non-null   int64 \n",
      " 10  target        1015 non-null   int64 \n",
      "dtypes: int64(4), object(7)\n",
      "memory usage: 87.4+ KB\n",
      "None\n",
      "--------------------------------------------------\n",
      "---shape---\n",
      "(436, 10)\n",
      "\n",
      "---null---\n",
      "id              0\n",
      "title           0\n",
      "odometer        0\n",
      "location        0\n",
      "isimported      0\n",
      "engine          0\n",
      "transmission    0\n",
      "fuel            0\n",
      "paint           0\n",
      "year            0\n",
      "dtype: int64\n",
      "---null---\n",
      "<class 'pandas.core.frame.DataFrame'>\n",
      "RangeIndex: 436 entries, 0 to 435\n",
      "Data columns (total 10 columns):\n",
      " #   Column        Non-Null Count  Dtype \n",
      "---  ------        --------------  ----- \n",
      " 0   id            436 non-null    int64 \n",
      " 1   title         436 non-null    object\n",
      " 2   odometer      436 non-null    int64 \n",
      " 3   location      436 non-null    object\n",
      " 4   isimported    436 non-null    object\n",
      " 5   engine        436 non-null    object\n",
      " 6   transmission  436 non-null    object\n",
      " 7   fuel          436 non-null    object\n",
      " 8   paint         436 non-null    object\n",
      " 9   year          436 non-null    int64 \n",
      "dtypes: int64(3), object(7)\n",
      "memory usage: 34.2+ KB\n",
      "None\n",
      "--------------------------------------------------\n"
     ]
    }
   ],
   "source": [
    "df_list=[train, test]\n",
    "for i in df_list:\n",
    "    print('---shape---')\n",
    "    print(i.shape)\n",
    "    print()\n",
    "    print('---null---')\n",
    "    print(i.isnull().sum())\n",
    "    print('---null---')\n",
    "    print(i.info())\n",
    "    print('-' * 50)"
   ]
  },
  {
   "cell_type": "code",
   "execution_count": 8,
   "id": "76ec9594",
   "metadata": {},
   "outputs": [
    {
     "name": "stdout",
     "output_type": "stream",
     "text": [
      "----------------------\n",
      "0\n",
      "\n",
      "----------------------\n",
      "0\n",
      "\n"
     ]
    }
   ],
   "source": [
    "for i in df_list:\n",
    "    print('-' * 22)\n",
    "    print(sum(i.duplicated()))\n",
    "    print()"
   ]
  },
  {
   "cell_type": "markdown",
   "id": "6d2a621d",
   "metadata": {},
   "source": [
    "## 타겟변수 확인"
   ]
  },
  {
   "cell_type": "code",
   "execution_count": 10,
   "id": "f2c85412",
   "metadata": {},
   "outputs": [
    {
     "name": "stderr",
     "output_type": "stream",
     "text": [
      "C:\\ProgramData\\Anaconda3\\lib\\site-packages\\seaborn\\distributions.py:2619: FutureWarning: `distplot` is a deprecated function and will be removed in a future version. Please adapt your code to use either `displot` (a figure-level function with similar flexibility) or `histplot` (an axes-level function for histograms).\n",
      "  warnings.warn(msg, FutureWarning)\n"
     ]
    },
    {
     "data": {
      "text/plain": [
       "<AxesSubplot:xlabel='target', ylabel='Density'>"
      ]
     },
     "execution_count": 10,
     "metadata": {},
     "output_type": "execute_result"
    },
    {
     "data": {
      "image/png": "[encoded data removed]",
      "text/plain": [
       "<Figure size 432x288 with 1 Axes>"
      ]
     },
     "metadata": {
      "needs_background": "light"
     },
     "output_type": "display_data"
    }
   ],
   "source": [
    "target=train['target']\n",
    "\n",
    "from scipy import stats\n",
    "from scipy.stats import norm\n",
    "\n",
    "sns.distplot(train['target'], fit=norm)"
   ]
  },
  {
   "cell_type": "code",
   "execution_count": 11,
   "id": "a2d2b374",
   "metadata": {},
   "outputs": [
    {
     "data": {
      "text/plain": [
       "((array([-3.2018795 , -2.93699643, -2.78920173, ...,  2.78920173,\n",
       "          2.93699643,  3.2018795 ]),\n",
       "  array([   400000,    400000,    400000, ..., 110015000, 117015000,\n",
       "         150015008], dtype=int64)),\n",
       " (8938213.431636602, 8243204.450246304, 0.7194519736543091))"
      ]
     },
     "execution_count": 11,
     "metadata": {},
     "output_type": "execute_result"
    },
    {
     "data": {
      "image/png": "[encoded data removed]",
      "text/plain": [
       "<Figure size 432x288 with 1 Axes>"
      ]
     },
     "metadata": {
      "needs_background": "light"
     },
     "output_type": "display_data"
    }
   ],
   "source": [
    "stats.probplot(train['target'],plot=plt)\n",
    "\n",
    "#왼쪽으로 치우쳐저 있기에 log나 root로 변환해보려한다."
   ]
  },
  {
   "cell_type": "code",
   "execution_count": 12,
   "id": "19db3562",
   "metadata": {},
   "outputs": [
    {
     "name": "stderr",
     "output_type": "stream",
     "text": [
      "C:\\ProgramData\\Anaconda3\\lib\\site-packages\\seaborn\\distributions.py:2619: FutureWarning: `distplot` is a deprecated function and will be removed in a future version. Please adapt your code to use either `displot` (a figure-level function with similar flexibility) or `histplot` (an axes-level function for histograms).\n",
      "  warnings.warn(msg, FutureWarning)\n"
     ]
    },
    {
     "data": {
      "text/plain": [
       "<AxesSubplot:xlabel='logTarget', ylabel='Density'>"
      ]
     },
     "execution_count": 12,
     "metadata": {},
     "output_type": "execute_result"
    },
    {
     "data": {
      "image/png": "[encoded data removed]",
      "text/plain": [
       "<Figure size 432x288 with 1 Axes>"
      ]
     },
     "metadata": {
      "needs_background": "light"
     },
     "output_type": "display_data"
    }
   ],
   "source": [
    "train['logTarget']=np.log(target+1)\n",
    "\n",
    "sns.distplot(train['logTarget'], fit=norm)"
   ]
  },
  {
   "cell_type": "code",
   "execution_count": 13,
   "id": "814abf44",
   "metadata": {},
   "outputs": [
    {
     "data": {
      "text/plain": [
       "((array([-3.2018795 , -2.93699643, -2.78920173, ...,  2.78920173,\n",
       "          2.93699643,  3.2018795 ]),\n",
       "  array([12.89922233, 12.89922233, 12.89922233, ..., 18.51612729,\n",
       "         18.5778127 , 18.82624591])),\n",
       " (0.9735853760948998, 15.385252309424105, 0.9942432431601682))"
      ]
     },
     "execution_count": 13,
     "metadata": {},
     "output_type": "execute_result"
    },
    {
     "data": {
      "image/png": "[encoded data removed]",
      "text/plain": [
       "<Figure size 432x288 with 1 Axes>"
      ]
     },
     "metadata": {
      "needs_background": "light"
     },
     "output_type": "display_data"
    }
   ],
   "source": [
    "stats.probplot(train['logTarget'],plot=plt)"
   ]
  },
  {
   "cell_type": "code",
   "execution_count": null,
   "id": "40c4741c",
   "metadata": {},
   "outputs": [],
   "source": []
  }
 ],
 "metadata": {
  "kernelspec": {
   "display_name": "Python 3 (ipykernel)",
   "language": "python",
   "name": "python3"
  },
  "language_info": {
   "codemirror_mode": {
    "name": "ipython",
    "version": 3
   },
   "file_extension": ".py",
   "mimetype": "text/x-python",
   "name": "python",
   "nbconvert_exporter": "python",
   "pygments_lexer": "ipython3",
   "version": "3.9.7"
  }
 },
 "nbformat": 4,
 "nbformat_minor": 5
}
