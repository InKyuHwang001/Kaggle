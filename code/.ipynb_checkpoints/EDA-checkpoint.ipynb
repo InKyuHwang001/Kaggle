{
 "cells": [
  {
   "cell_type": "markdown",
   "id": "fe0e6f38",
   "metadata": {},
   "source": [
    "## 목표: \n",
    "    - count예측하기\n",
    "## 열의 의미\n",
    "- datetime시간별 날짜\n",
    "- season 1,2,3,4 봄여름가을겨율\n",
    "- holiday 휴일인지 여부\n",
    "- workingday\t일하는 날인지 여부\n",
    "- weather 1: 최상 4:최악\n",
    "- temp 섭씨 온도\n",
    "- atetemp 체감기온\n",
    "- humidity 상대습도\n",
    "- casual 미등록 사용자 대여수\n",
    "- registered 등록된 사용자 대여수\n",
    "- count 총 대여수"
   ]
  },
  {
   "cell_type": "markdown",
   "id": "c0a9dd71",
   "metadata": {},
   "source": [
    "22년5월30일 시작 \n",
    "<br>\n",
    "EDA에 관한 코드임"
   ]
  },
  {
   "cell_type": "code",
   "execution_count": 1,
   "id": "40772880",
   "metadata": {},
   "outputs": [],
   "source": [
    "import pandas as pd\n",
    "import numpy as np\n",
    "import matplotlib.pyplot as plt\n",
    "import seaborn as sns"
   ]
  },
  {
   "cell_type": "code",
   "execution_count": 2,
   "id": "1929f9b2",
   "metadata": {},
   "outputs": [
    {
     "data": {
      "text/html": [
       "<div>\n",
       "<style scoped>\n",
       "    .dataframe tbody tr th:only-of-type {\n",
       "        vertical-align: middle;\n",
       "    }\n",
       "\n",
       "    .dataframe tbody tr th {\n",
       "        vertical-align: top;\n",
       "    }\n",
       "\n",
       "    .dataframe thead th {\n",
       "        text-align: right;\n",
       "    }\n",
       "</style>\n",
       "<table border=\"1\" class=\"dataframe\">\n",
       "  <thead>\n",
       "    <tr style=\"text-align: right;\">\n",
       "      <th></th>\n",
       "      <th>datetime</th>\n",
       "      <th>season</th>\n",
       "      <th>holiday</th>\n",
       "      <th>workingday</th>\n",
       "      <th>weather</th>\n",
       "      <th>temp</th>\n",
       "      <th>atemp</th>\n",
       "      <th>humidity</th>\n",
       "      <th>windspeed</th>\n",
       "      <th>casual</th>\n",
       "      <th>registered</th>\n",
       "      <th>count</th>\n",
       "    </tr>\n",
       "  </thead>\n",
       "  <tbody>\n",
       "    <tr>\n",
       "      <th>0</th>\n",
       "      <td>2011-01-01 00:00:00</td>\n",
       "      <td>1</td>\n",
       "      <td>0</td>\n",
       "      <td>0</td>\n",
       "      <td>1</td>\n",
       "      <td>9.84</td>\n",
       "      <td>14.395</td>\n",
       "      <td>81</td>\n",
       "      <td>0.0</td>\n",
       "      <td>3</td>\n",
       "      <td>13</td>\n",
       "      <td>16</td>\n",
       "    </tr>\n",
       "    <tr>\n",
       "      <th>1</th>\n",
       "      <td>2011-01-01 01:00:00</td>\n",
       "      <td>1</td>\n",
       "      <td>0</td>\n",
       "      <td>0</td>\n",
       "      <td>1</td>\n",
       "      <td>9.02</td>\n",
       "      <td>13.635</td>\n",
       "      <td>80</td>\n",
       "      <td>0.0</td>\n",
       "      <td>8</td>\n",
       "      <td>32</td>\n",
       "      <td>40</td>\n",
       "    </tr>\n",
       "    <tr>\n",
       "      <th>2</th>\n",
       "      <td>2011-01-01 02:00:00</td>\n",
       "      <td>1</td>\n",
       "      <td>0</td>\n",
       "      <td>0</td>\n",
       "      <td>1</td>\n",
       "      <td>9.02</td>\n",
       "      <td>13.635</td>\n",
       "      <td>80</td>\n",
       "      <td>0.0</td>\n",
       "      <td>5</td>\n",
       "      <td>27</td>\n",
       "      <td>32</td>\n",
       "    </tr>\n",
       "    <tr>\n",
       "      <th>3</th>\n",
       "      <td>2011-01-01 03:00:00</td>\n",
       "      <td>1</td>\n",
       "      <td>0</td>\n",
       "      <td>0</td>\n",
       "      <td>1</td>\n",
       "      <td>9.84</td>\n",
       "      <td>14.395</td>\n",
       "      <td>75</td>\n",
       "      <td>0.0</td>\n",
       "      <td>3</td>\n",
       "      <td>10</td>\n",
       "      <td>13</td>\n",
       "    </tr>\n",
       "    <tr>\n",
       "      <th>4</th>\n",
       "      <td>2011-01-01 04:00:00</td>\n",
       "      <td>1</td>\n",
       "      <td>0</td>\n",
       "      <td>0</td>\n",
       "      <td>1</td>\n",
       "      <td>9.84</td>\n",
       "      <td>14.395</td>\n",
       "      <td>75</td>\n",
       "      <td>0.0</td>\n",
       "      <td>0</td>\n",
       "      <td>1</td>\n",
       "      <td>1</td>\n",
       "    </tr>\n",
       "  </tbody>\n",
       "</table>\n",
       "</div>"
      ],
      "text/plain": [
       "              datetime  season  holiday  workingday  weather  temp   atemp  \\\n",
       "0  2011-01-01 00:00:00       1        0           0        1  9.84  14.395   \n",
       "1  2011-01-01 01:00:00       1        0           0        1  9.02  13.635   \n",
       "2  2011-01-01 02:00:00       1        0           0        1  9.02  13.635   \n",
       "3  2011-01-01 03:00:00       1        0           0        1  9.84  14.395   \n",
       "4  2011-01-01 04:00:00       1        0           0        1  9.84  14.395   \n",
       "\n",
       "   humidity  windspeed  casual  registered  count  \n",
       "0        81        0.0       3          13     16  \n",
       "1        80        0.0       8          32     40  \n",
       "2        80        0.0       5          27     32  \n",
       "3        75        0.0       3          10     13  \n",
       "4        75        0.0       0           1      1  "
      ]
     },
     "execution_count": 2,
     "metadata": {},
     "output_type": "execute_result"
    }
   ],
   "source": [
    "train=pd.read_csv('../data/train.csv')\n",
    "test=pd.read_csv('../data/test.csv')\n",
    "train.head()"
   ]
  },
  {
   "cell_type": "code",
   "execution_count": 3,
   "id": "d0e1e2ed",
   "metadata": {},
   "outputs": [
    {
     "data": {
      "text/html": [
       "<div>\n",
       "<style scoped>\n",
       "    .dataframe tbody tr th:only-of-type {\n",
       "        vertical-align: middle;\n",
       "    }\n",
       "\n",
       "    .dataframe tbody tr th {\n",
       "        vertical-align: top;\n",
       "    }\n",
       "\n",
       "    .dataframe thead th {\n",
       "        text-align: right;\n",
       "    }\n",
       "</style>\n",
       "<table border=\"1\" class=\"dataframe\">\n",
       "  <thead>\n",
       "    <tr style=\"text-align: right;\">\n",
       "      <th></th>\n",
       "      <th>datetime</th>\n",
       "      <th>season</th>\n",
       "      <th>holiday</th>\n",
       "      <th>workingday</th>\n",
       "      <th>weather</th>\n",
       "      <th>temp</th>\n",
       "      <th>atemp</th>\n",
       "      <th>humidity</th>\n",
       "      <th>windspeed</th>\n",
       "    </tr>\n",
       "  </thead>\n",
       "  <tbody>\n",
       "    <tr>\n",
       "      <th>0</th>\n",
       "      <td>2011-01-20 00:00:00</td>\n",
       "      <td>1</td>\n",
       "      <td>0</td>\n",
       "      <td>1</td>\n",
       "      <td>1</td>\n",
       "      <td>10.66</td>\n",
       "      <td>11.365</td>\n",
       "      <td>56</td>\n",
       "      <td>26.0027</td>\n",
       "    </tr>\n",
       "    <tr>\n",
       "      <th>1</th>\n",
       "      <td>2011-01-20 01:00:00</td>\n",
       "      <td>1</td>\n",
       "      <td>0</td>\n",
       "      <td>1</td>\n",
       "      <td>1</td>\n",
       "      <td>10.66</td>\n",
       "      <td>13.635</td>\n",
       "      <td>56</td>\n",
       "      <td>0.0000</td>\n",
       "    </tr>\n",
       "    <tr>\n",
       "      <th>2</th>\n",
       "      <td>2011-01-20 02:00:00</td>\n",
       "      <td>1</td>\n",
       "      <td>0</td>\n",
       "      <td>1</td>\n",
       "      <td>1</td>\n",
       "      <td>10.66</td>\n",
       "      <td>13.635</td>\n",
       "      <td>56</td>\n",
       "      <td>0.0000</td>\n",
       "    </tr>\n",
       "    <tr>\n",
       "      <th>3</th>\n",
       "      <td>2011-01-20 03:00:00</td>\n",
       "      <td>1</td>\n",
       "      <td>0</td>\n",
       "      <td>1</td>\n",
       "      <td>1</td>\n",
       "      <td>10.66</td>\n",
       "      <td>12.880</td>\n",
       "      <td>56</td>\n",
       "      <td>11.0014</td>\n",
       "    </tr>\n",
       "    <tr>\n",
       "      <th>4</th>\n",
       "      <td>2011-01-20 04:00:00</td>\n",
       "      <td>1</td>\n",
       "      <td>0</td>\n",
       "      <td>1</td>\n",
       "      <td>1</td>\n",
       "      <td>10.66</td>\n",
       "      <td>12.880</td>\n",
       "      <td>56</td>\n",
       "      <td>11.0014</td>\n",
       "    </tr>\n",
       "  </tbody>\n",
       "</table>\n",
       "</div>"
      ],
      "text/plain": [
       "              datetime  season  holiday  workingday  weather   temp   atemp  \\\n",
       "0  2011-01-20 00:00:00       1        0           1        1  10.66  11.365   \n",
       "1  2011-01-20 01:00:00       1        0           1        1  10.66  13.635   \n",
       "2  2011-01-20 02:00:00       1        0           1        1  10.66  13.635   \n",
       "3  2011-01-20 03:00:00       1        0           1        1  10.66  12.880   \n",
       "4  2011-01-20 04:00:00       1        0           1        1  10.66  12.880   \n",
       "\n",
       "   humidity  windspeed  \n",
       "0        56    26.0027  \n",
       "1        56     0.0000  \n",
       "2        56     0.0000  \n",
       "3        56    11.0014  \n",
       "4        56    11.0014  "
      ]
     },
     "execution_count": 3,
     "metadata": {},
     "output_type": "execute_result"
    }
   ],
   "source": [
    "test.head()"
   ]
  },
  {
   "cell_type": "markdown",
   "id": "71a65160",
   "metadata": {},
   "source": [
    "train에 casual,registered,count가 추가로 있음"
   ]
  },
  {
   "cell_type": "code",
   "execution_count": 11,
   "id": "387f185e",
   "metadata": {},
   "outputs": [
    {
     "name": "stdout",
     "output_type": "stream",
     "text": [
      "---shape---\n",
      "(10886, 12)\n",
      "\n",
      "---null---\n",
      "datetime      0\n",
      "season        0\n",
      "holiday       0\n",
      "workingday    0\n",
      "weather       0\n",
      "temp          0\n",
      "atemp         0\n",
      "humidity      0\n",
      "windspeed     0\n",
      "casual        0\n",
      "registered    0\n",
      "count         0\n",
      "dtype: int64\n",
      "---null---\n",
      "<class 'pandas.core.frame.DataFrame'>\n",
      "RangeIndex: 10886 entries, 0 to 10885\n",
      "Data columns (total 12 columns):\n",
      " #   Column      Non-Null Count  Dtype  \n",
      "---  ------      --------------  -----  \n",
      " 0   datetime    10886 non-null  object \n",
      " 1   season      10886 non-null  int64  \n",
      " 2   holiday     10886 non-null  int64  \n",
      " 3   workingday  10886 non-null  int64  \n",
      " 4   weather     10886 non-null  int64  \n",
      " 5   temp        10886 non-null  float64\n",
      " 6   atemp       10886 non-null  float64\n",
      " 7   humidity    10886 non-null  int64  \n",
      " 8   windspeed   10886 non-null  float64\n",
      " 9   casual      10886 non-null  int64  \n",
      " 10  registered  10886 non-null  int64  \n",
      " 11  count       10886 non-null  int64  \n",
      "dtypes: float64(3), int64(8), object(1)\n",
      "memory usage: 1020.7+ KB\n",
      "None\n",
      "----------------------\n",
      "---shape---\n",
      "(6493, 9)\n",
      "\n",
      "---null---\n",
      "datetime      0\n",
      "season        0\n",
      "holiday       0\n",
      "workingday    0\n",
      "weather       0\n",
      "temp          0\n",
      "atemp         0\n",
      "humidity      0\n",
      "windspeed     0\n",
      "dtype: int64\n",
      "---null---\n",
      "<class 'pandas.core.frame.DataFrame'>\n",
      "RangeIndex: 6493 entries, 0 to 6492\n",
      "Data columns (total 9 columns):\n",
      " #   Column      Non-Null Count  Dtype  \n",
      "---  ------      --------------  -----  \n",
      " 0   datetime    6493 non-null   object \n",
      " 1   season      6493 non-null   int64  \n",
      " 2   holiday     6493 non-null   int64  \n",
      " 3   workingday  6493 non-null   int64  \n",
      " 4   weather     6493 non-null   int64  \n",
      " 5   temp        6493 non-null   float64\n",
      " 6   atemp       6493 non-null   float64\n",
      " 7   humidity    6493 non-null   int64  \n",
      " 8   windspeed   6493 non-null   float64\n",
      "dtypes: float64(3), int64(5), object(1)\n",
      "memory usage: 456.7+ KB\n",
      "None\n",
      "----------------------\n"
     ]
    }
   ],
   "source": [
    "df_list=[train, test]\n",
    "for i in df_list:\n",
    "    print('---shape---')\n",
    "    print(i.shape)\n",
    "    print()\n",
    "    print('---null---')\n",
    "    print(i.isnull().sum())\n",
    "    print('---null---')\n",
    "    print(i.info())\n",
    "    print('-' * 22)\n",
    "    #null 값은 없다."
   ]
  },
  {
   "cell_type": "code",
   "execution_count": 7,
   "id": "d928d181",
   "metadata": {},
   "outputs": [
    {
     "name": "stdout",
     "output_type": "stream",
     "text": [
      "----------------------\n",
      "0\n",
      "\n",
      "----------------------\n",
      "0\n",
      "\n"
     ]
    }
   ],
   "source": [
    "for i in df_list:\n",
    "    print('-' * 22)\n",
    "    print(sum(i.duplicated()))\n",
    "    print()\n",
    "#중복값 역시 없다."
   ]
  },
  {
   "cell_type": "code",
   "execution_count": 20,
   "id": "da9f443b",
   "metadata": {},
   "outputs": [
    {
     "name": "stderr",
     "output_type": "stream",
     "text": [
      "C:\\ProgramData\\Anaconda3\\lib\\site-packages\\seaborn\\distributions.py:2619: FutureWarning: `distplot` is a deprecated function and will be removed in a future version. Please adapt your code to use either `displot` (a figure-level function with similar flexibility) or `histplot` (an axes-level function for histograms).\n",
      "  warnings.warn(msg, FutureWarning)\n"
     ]
    },
    {
     "data": {
      "text/plain": [
       "<AxesSubplot:xlabel='count', ylabel='Density'>"
      ]
     },
     "execution_count": 20,
     "metadata": {},
     "output_type": "execute_result"
    },
    {
     "data": {
      "image/png": "[encoded data removed]",
      "text/plain": [
       "<Figure size 432x288 with 1 Axes>"
      ]
     },
     "metadata": {
      "needs_background": "light"
     },
     "output_type": "display_data"
    }
   ],
   "source": [
    "#타겟변수 확인\n",
    "target=train['count']\n",
    "\n",
    "from scipy import stats\n",
    "from scipy.stats import norm\n",
    "\n",
    "sns.distplot(train['count'], fit=norm)"
   ]
  },
  {
   "cell_type": "code",
   "execution_count": 21,
   "id": "79799b1f",
   "metadata": {},
   "outputs": [
    {
     "data": {
      "text/plain": [
       "((array([-3.83154229, -3.60754977, -3.48462983, ...,  3.48462983,\n",
       "          3.60754977,  3.83154229]),\n",
       "  array([  1,   1,   1, ..., 968, 970, 977], dtype=int64)),\n",
       " (169.82942673231383, 191.5741319125482, 0.9372682766213166))"
      ]
     },
     "execution_count": 21,
     "metadata": {},
     "output_type": "execute_result"
    },
    {
     "data": {
      "image/png": "[encoded data removed]",
      "text/plain": [
       "<Figure size 432x288 with 1 Axes>"
      ]
     },
     "metadata": {
      "needs_background": "light"
     },
     "output_type": "display_data"
    }
   ],
   "source": [
    "stats.probplot(train['count'],plot=plt)"
   ]
  },
  {
   "cell_type": "markdown",
   "id": "56775e41",
   "metadata": {},
   "source": [
    "왼쪽으로 치우쳐저 있기에 log나 root로 변환해보려한다."
   ]
  },
  {
   "cell_type": "code",
   "execution_count": 23,
   "id": "9f6a7780",
   "metadata": {},
   "outputs": [
    {
     "name": "stderr",
     "output_type": "stream",
     "text": [
      "C:\\ProgramData\\Anaconda3\\lib\\site-packages\\seaborn\\distributions.py:2619: FutureWarning: `distplot` is a deprecated function and will be removed in a future version. Please adapt your code to use either `displot` (a figure-level function with similar flexibility) or `histplot` (an axes-level function for histograms).\n",
      "  warnings.warn(msg, FutureWarning)\n"
     ]
    },
    {
     "data": {
      "text/plain": [
       "<AxesSubplot:xlabel='logCount', ylabel='Density'>"
      ]
     },
     "execution_count": 23,
     "metadata": {},
     "output_type": "execute_result"
    },
    {
     "data": {
      "image/png": "[encoded data removed]",
      "text/plain": [
       "<Figure size 432x288 with 1 Axes>"
      ]
     },
     "metadata": {
      "needs_background": "light"
     },
     "output_type": "display_data"
    }
   ],
   "source": [
    "train['logCount']=np.log(target+1)\n",
    "\n",
    "sns.distplot(train['logCount'], fit=norm)"
   ]
  },
  {
   "cell_type": "code",
   "execution_count": 25,
   "id": "b9913a9d",
   "metadata": {},
   "outputs": [
    {
     "data": {
      "text/plain": [
       "((array([-3.83154229, -3.60754977, -3.48462983, ...,  3.48462983,\n",
       "          3.60754977,  3.83154229]),\n",
       "  array([0.69314718, 0.69314718, 0.69314718, ..., 6.87626461, 6.87832647,\n",
       "         6.88550967])),\n",
       " (1.364739645924417, 4.591363690454027, 0.9611793780126944))"
      ]
     },
     "execution_count": 25,
     "metadata": {},
     "output_type": "execute_result"
    },
    {
     "data": {
      "image/png": "[encoded data removed]",
      "text/plain": [
       "<Figure size 432x288 with 1 Axes>"
      ]
     },
     "metadata": {
      "needs_background": "light"
     },
     "output_type": "display_data"
    }
   ],
   "source": [
    "stats.probplot(train['logCount'],plot=plt)"
   ]
  },
  {
   "cell_type": "code",
   "execution_count": 32,
   "id": "1a632691",
   "metadata": {},
   "outputs": [
    {
     "data": {
      "text/plain": [
       "((10886, 13), (6493, 9), (17379, 9))"
      ]
     },
     "execution_count": 32,
     "metadata": {},
     "output_type": "execute_result"
    }
   ],
   "source": [
    "featureNames=list(test)\n",
    "df_train=train[featureNames]\n",
    "df=pd.concat((df_train,test))\n",
    "\n",
    "train.shape, test.shape, df.shape"
   ]
  },
  {
   "cell_type": "markdown",
   "id": "708de2cb",
   "metadata": {},
   "source": [
    "datetime 조절"
   ]
  },
  {
   "cell_type": "code",
   "execution_count": 33,
   "id": "d93af4a6",
   "metadata": {},
   "outputs": [],
   "source": [
    "import datetime\n",
    "\n",
    "tmp=pd.to_datetime(train['datetime'])\n",
    "\n",
    "df['datetime']=pd.to_datetime(df['datetime'])\n",
    "df['day']=df['datetime'].dt.day\n",
    "df['hour']=df['datetime'].dt.hour\n",
    "df['dayofweek']=df['datetime'].dt.dayofweek\n",
    "df['month']=df['datetime'].dt.month\n",
    "df['year']=df['datetime'].dt.year\n",
    "df['weekend']=(df['dayofweek']==5)|(df['dayofweek']==6)\n",
    "\n",
    "df=df.drop(['datetime'],axis=1)"
   ]
  },
  {
   "cell_type": "code",
   "execution_count": 34,
   "id": "11b6f53e",
   "metadata": {},
   "outputs": [],
   "source": [
    "train['datetime']=pd.to_datetime(train['datetime'])\n",
    "train['day']=train['datetime'].dt.day\n",
    "train['hour']=train['datetime'].dt.hour\n",
    "train['dayofweek']=train['datetime'].dt.dayofweek\n",
    "train['month']=train['datetime'].dt.month\n",
    "train['year']=train['datetime'].dt.year\n",
    "train['weekend']=(train['dayofweek']==5)|(train['dayofweek']==6)\n"
   ]
  },
  {
   "cell_type": "code",
   "execution_count": 36,
   "id": "cd43be39",
   "metadata": {
    "scrolled": true
   },
   "outputs": [
    {
     "data": {
      "text/plain": [
       "<AxesSubplot:xlabel='day', ylabel='count'>"
      ]
     },
     "execution_count": 36,
     "metadata": {},
     "output_type": "execute_result"
    },
    {
     "data": {
      "image/png": "[encoded data removed]",
      "text/plain": [
       "<Figure size 1080x720 with 6 Axes>"
      ]
     },
     "metadata": {
      "needs_background": "light"
     },
     "output_type": "display_data"
    }
   ],
   "source": [
    "figure, axs=plt.subplots(3,2,figsize=(15,10))\n",
    "sns.barplot(data=train, x='day', y=target,ax=axs[0][0])\n",
    "sns.barplot(data=train, x='hour', y=target,ax=axs[0][1])\n",
    "sns.barplot(data=train, x='dayofweek', y=target,ax=axs[1][0])\n",
    "sns.barplot(data=train, x='month', y=target,ax=axs[1][1])\n",
    "sns.barplot(data=train, x='year', y=target,ax=axs[2][0])\n",
    "sns.barplot(data=train, x='day', y=target,ax=axs[2][1])"
   ]
  },
  {
   "cell_type": "markdown",
   "id": "fbf6df36",
   "metadata": {},
   "source": [
    "12년에 대여량이 증가\n",
    "월별로 보면 여름에 대여향이 높은것으로 추정\n",
    "시간대 별로는 출퇴근 시간에 많아 봉미\n",
    "요일별 차이는 거의 없음"
   ]
  },
  {
   "cell_type": "code",
   "execution_count": null,
   "id": "d59d9fa3",
   "metadata": {},
   "outputs": [],
   "source": []
  },
  {
   "cell_type": "code",
   "execution_count": null,
   "id": "9cb99869",
   "metadata": {},
   "outputs": [],
   "source": []
  },
  {
   "cell_type": "code",
   "execution_count": null,
   "id": "45e0e2d0",
   "metadata": {},
   "outputs": [],
   "source": []
  },
  {
   "cell_type": "code",
   "execution_count": null,
   "id": "1553b8ba",
   "metadata": {},
   "outputs": [],
   "source": []
  }
 ],
 "metadata": {
  "kernelspec": {
   "display_name": "Python 3 (ipykernel)",
   "language": "python",
   "name": "python3"
  },
  "language_info": {
   "codemirror_mode": {
    "name": "ipython",
    "version": 3
   },
   "file_extension": ".py",
   "mimetype": "text/x-python",
   "name": "python",
   "nbconvert_exporter": "python",
   "pygments_lexer": "ipython3",
   "version": "3.9.7"
  }
 },
 "nbformat": 4,
 "nbformat_minor": 5
}
